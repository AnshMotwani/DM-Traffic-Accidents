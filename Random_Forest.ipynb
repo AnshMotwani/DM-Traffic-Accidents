{
 "cells": [
  {
   "cell_type": "code",
   "execution_count": 9,
   "metadata": {},
   "outputs": [],
   "source": [
    "import pandas as pd\n",
    "import numpy as np\n",
    "import matplotlib.pyplot as plt\n",
    "import seaborn as sns\n",
    "import folium\n",
    "from folium.plugins import HeatMap\n",
    "from sklearn.model_selection import train_test_split\n",
    "from sklearn.preprocessing import StandardScaler\n",
    "from sklearn.ensemble import RandomForestClassifier\n",
    "from sklearn.metrics import classification_report, accuracy_score\n",
    "from sklearn.cluster import KMeans, DBSCAN\n",
    "\n",
    "file_path = \"dataset/cleaned_us_accident_data.csv\"\n",
    "df = pd.read_csv(file_path)"
   ]
  },
  {
   "cell_type": "code",
   "execution_count": 10,
   "metadata": {},
   "outputs": [
    {
     "name": "stdout",
     "output_type": "stream",
     "text": [
      "Dataset Loaded: 7472284 rows, 48 columns\n",
      "    id   source  severity           start_time             end_time  \\\n",
      "0  A-1  source2         3  2016-02-08 05:46:00  2016-02-08 11:00:00   \n",
      "1  A-2  source2         2  2016-02-08 06:07:59  2016-02-08 06:37:59   \n",
      "2  A-3  source2         2  2016-02-08 06:49:27  2016-02-08 07:19:27   \n",
      "3  A-4  source2         3  2016-02-08 07:23:34  2016-02-08 07:53:34   \n",
      "4  A-5  source2         2  2016-02-08 07:39:07  2016-02-08 08:09:07   \n",
      "\n",
      "   start_lat  start_lng  distance(mi)  \\\n",
      "0  39.865147 -84.058723          0.01   \n",
      "1  39.928059 -82.831184          0.01   \n",
      "2  39.063148 -84.032608          0.01   \n",
      "3  39.747753 -84.205582          0.01   \n",
      "4  39.627781 -84.188354          0.01   \n",
      "\n",
      "                                         description  \\\n",
      "0  Right lane blocked due to accident on I-70 Eas...   \n",
      "1  Accident on Brice Rd at Tussing Rd. Expect del...   \n",
      "2  Accident on OH-32 State Route 32 Westbound at ...   \n",
      "3  Accident on I-75 Southbound at Exits 52 52B US...   \n",
      "4  Accident on McEwen Rd at OH-725 Miamisburg Cen...   \n",
      "\n",
      "                      street  ... turning_loop sunrise_sunset civil_twilight  \\\n",
      "0                     I-70 E  ...            0          night          night   \n",
      "1                   Brice Rd  ...            0          night          night   \n",
      "2             State Route 32  ...            0          night          night   \n",
      "3                     I-75 S  ...            0          night            day   \n",
      "4  Miamisburg Centerville Rd  ...            0            day            day   \n",
      "\n",
      "  nautical_twilight astronomical_twilight start_hour start_weekday  \\\n",
      "0             night                 night        5.0           0.0   \n",
      "1             night                   day        6.0           0.0   \n",
      "2               day                   day        6.0           0.0   \n",
      "3               day                   day        7.0           0.0   \n",
      "4               day                   day        7.0           0.0   \n",
      "\n",
      "   start_month  start_year  duration(min)  \n",
      "0          2.0      2016.0          314.0  \n",
      "1          2.0      2016.0           30.0  \n",
      "2          2.0      2016.0           30.0  \n",
      "3          2.0      2016.0           30.0  \n",
      "4          2.0      2016.0           30.0  \n",
      "\n",
      "[5 rows x 48 columns]\n"
     ]
    }
   ],
   "source": [
    "print(f\"Dataset Loaded: {df.shape[0]} rows, {df.shape[1]} columns\")\n",
    "print(df.head())"
   ]
  },
  {
   "cell_type": "code",
   "execution_count": 11,
   "metadata": {},
   "outputs": [
    {
     "name": "stdout",
     "output_type": "stream",
     "text": [
      "Data Types of Each Column:\n",
      "id                        object\n",
      "source                    object\n",
      "severity                   int64\n",
      "start_time                object\n",
      "end_time                  object\n",
      "start_lat                float64\n",
      "start_lng                float64\n",
      "distance(mi)             float64\n",
      "description               object\n",
      "street                    object\n",
      "city                      object\n",
      "county                    object\n",
      "state                     object\n",
      "zipcode                   object\n",
      "timezone                  object\n",
      "airport_code              object\n",
      "weather_timestamp         object\n",
      "temperature(f)           float64\n",
      "wind_chill(f)            float64\n",
      "humidity(%)              float64\n",
      "pressure(in)             float64\n",
      "visibility(mi)           float64\n",
      "wind_direction            object\n",
      "wind_speed(mph)          float64\n",
      "precipitation(in)        float64\n",
      "weather_condition         object\n",
      "amenity                    int64\n",
      "bump                       int64\n",
      "crossing                   int64\n",
      "give_way                   int64\n",
      "junction                   int64\n",
      "no_exit                    int64\n",
      "railway                    int64\n",
      "roundabout                 int64\n",
      "station                    int64\n",
      "stop                       int64\n",
      "traffic_calming            int64\n",
      "traffic_signal             int64\n",
      "turning_loop               int64\n",
      "sunrise_sunset            object\n",
      "civil_twilight            object\n",
      "nautical_twilight         object\n",
      "astronomical_twilight     object\n",
      "start_hour               float64\n",
      "start_weekday            float64\n",
      "start_month              float64\n",
      "start_year               float64\n",
      "duration(min)            float64\n",
      "dtype: object\n"
     ]
    }
   ],
   "source": [
    "print(\"Data Types of Each Column:\")\n",
    "print(df.dtypes)"
   ]
  },
  {
   "cell_type": "code",
   "execution_count": 12,
   "metadata": {},
   "outputs": [
    {
     "name": "stdout",
     "output_type": "stream",
     "text": [
      "Missing Values Before Cleaning:\n",
      "start_time               714742\n",
      "end_time                 714742\n",
      "description                   4\n",
      "street                    10390\n",
      "city                        243\n",
      "weather_condition         15453\n",
      "sunrise_sunset            19934\n",
      "civil_twilight            19934\n",
      "nautical_twilight         19934\n",
      "astronomical_twilight     19934\n",
      "start_hour               714742\n",
      "start_weekday            714742\n",
      "start_month              714742\n",
      "start_year               714742\n",
      "duration(min)            714742\n",
      "dtype: int64\n"
     ]
    }
   ],
   "source": [
    "# Check for Missing Values\n",
    "missing_values = df.isnull().sum()\n",
    "print(\"Missing Values Before Cleaning:\")\n",
    "print(missing_values[missing_values > 0])"
   ]
  },
  {
   "cell_type": "code",
   "execution_count": 13,
   "metadata": {},
   "outputs": [
    {
     "name": "stdout",
     "output_type": "stream",
     "text": [
      "Unique Value Counts for Categorical Variables:\n",
      "id: 7472284 unique values\n",
      "source: 3 unique values\n",
      "start_time: 5382863 unique values\n",
      "end_time: 5859595 unique values\n",
      "description: 3652997 unique values\n",
      "street: 329506 unique values\n",
      "city: 13185 unique values\n",
      "county: 1857 unique values\n",
      "state: 49 unique values\n",
      "zipcode: 805783 unique values\n",
      "timezone: 4 unique values\n",
      "airport_code: 2014 unique values\n",
      "weather_timestamp: 930711 unique values\n",
      "wind_direction: 23 unique values\n",
      "weather_condition: 142 unique values\n",
      "sunrise_sunset: 2 unique values\n",
      "civil_twilight: 2 unique values\n",
      "nautical_twilight: 2 unique values\n",
      "astronomical_twilight: 2 unique values\n"
     ]
    }
   ],
   "source": [
    "# Check Categorical Variable\n",
    "categorical_columns = [col for col in df.columns if df[col].nunique() > 1 and df[col].dtype not in ['int64', 'float64']]\n",
    "unique_value_counts = {col: df[col].nunique() for col in categorical_columns}\n",
    "\n",
    "print(\"Unique Value Counts for Categorical Variables:\")\n",
    "for col, count in unique_value_counts.items():\n",
    "  print(f\"{col}: {count} unique values\")"
   ]
  },
  {
   "cell_type": "code",
   "execution_count": 14,
   "metadata": {},
   "outputs": [
    {
     "name": "stdout",
     "output_type": "stream",
     "text": [
      " source     mean   count\n",
      "source1 2.117767 4161516\n",
      "source2 2.331339 3216401\n",
      "source3 2.275541   94367\n",
      "   timezone     mean   count\n",
      " us/central 2.235551 1607849\n",
      " us/eastern 2.225291 3457823\n",
      "us/mountain 2.200587  411677\n",
      " us/pacific 2.171176 1994935\n",
      "sunrise_sunset     mean   count\n",
      "           day 2.208334 5167624\n",
      "         night 2.219192 2284726\n",
      "civil_twilight     mean   count\n",
      "           day 2.208587 5517464\n",
      "         night 2.220434 1934886\n",
      "nautical_twilight     mean   count\n",
      "              day 2.209026 5885950\n",
      "            night 2.221570 1566400\n",
      "astronomical_twilight     mean   count\n",
      "                  day 2.209996 6177286\n",
      "                night 2.219739 1275064\n"
     ]
    }
   ],
   "source": [
    "# Check Correlation with Severity and Occurrence Count\n",
    "for col in ['source', 'timezone', 'sunrise_sunset', 'civil_twilight', 'nautical_twilight', 'astronomical_twilight']:\n",
    "  severity_stats = df.groupby(col)['severity'].agg(['mean', 'count']).reset_index()\n",
    "  print(severity_stats.to_string(index=False))"
   ]
  },
  {
   "cell_type": "code",
   "execution_count": null,
   "metadata": {},
   "outputs": [],
   "source": [
    "# Classify Weather_Condition into Broader Categories\n",
    "weather_categories = {\n",
    "    'Clear': ['clear', 'fair'],\n",
    "    'Cloudy': ['cloud', 'overcast'],\n",
    "    'Foggy': ['fog', 'mist', 'haze'],\n",
    "    'Windy': ['windy'],\n",
    "    'Dusty': ['dust', 'sand', 'volcanic ash'],\n",
    "    'Smoky': ['smoke'],\n",
    "    'Drizzle': ['drizzle'],\n",
    "    'Rainy': ['rain'],\n",
    "    'Snowy': ['snow'],\n",
    "    'Sleet/Ice': ['sleet', 'freezing', 'ice pellets', 'wintry mix'],\n",
    "    'Thunderstorms': ['thunder', 'storm'],\n",
    "    'Extreme': ['tornado', 'funnel cloud', 'squalls']\n",
    "}\n",
    "\n",
    "df['weather_condition'] = df['weather_condition'].fillna('Unknown').astype(str).str.lower()\n",
    "\n",
    "for category in weather_categories.keys():\n",
    "    df[category] = 0\n",
    "\n",
    "for category, keywords in weather_categories.items():\n",
    "    df[category] = df['weather_condition'].apply(lambda x: int(any(kw in x for kw in keywords)))"
   ]
  },
  {
   "cell_type": "code",
   "execution_count": null,
   "metadata": {},
   "outputs": [
    {
     "name": "stdout",
     "output_type": "stream",
     "text": [
      "\n",
      "Cleaned Dataset: 7472284 rows, 36 columns\n",
      "   severity  start_lat  start_lng  distance(mi)  temperature(f)  \\\n",
      "0         3  39.865147 -84.058723          0.01            36.9   \n",
      "1         2  39.928059 -82.831184          0.01            37.9   \n",
      "2         2  39.063148 -84.032608          0.01            36.0   \n",
      "3         3  39.747753 -84.205582          0.01            35.1   \n",
      "4         2  39.627781 -84.188354          0.01            36.0   \n",
      "\n",
      "   wind_chill(f)  humidity(%)  pressure(in)  visibility(mi)  wind_speed(mph)  \\\n",
      "0           62.0         91.0         29.68            10.0              7.0   \n",
      "1           62.0        100.0         29.65            10.0              7.0   \n",
      "2           33.3        100.0         29.67            10.0              3.5   \n",
      "3           31.0         96.0         29.64            10.0              4.6   \n",
      "4           33.3         89.0         29.65            10.0              3.5   \n",
      "\n",
      "   ...  Foggy  Windy  Dusty  Smoky  Drizzle  Rainy  Snowy  Sleet/Ice  \\\n",
      "0  ...      0      0      0      0        0      1      0          0   \n",
      "1  ...      0      0      0      0        0      1      0          0   \n",
      "2  ...      0      0      0      0        0      0      0          0   \n",
      "3  ...      0      0      0      0        0      0      0          0   \n",
      "4  ...      0      0      0      0        0      0      0          0   \n",
      "\n",
      "   Thunderstorms  Extreme  \n",
      "0              0        0  \n",
      "1              0        0  \n",
      "2              0        0  \n",
      "3              0        0  \n",
      "4              0        0  \n",
      "\n",
      "[5 rows x 36 columns]\n",
      "\n",
      "Columns Remaining After Feature Selection:\n",
      "Index(['severity', 'start_lat', 'start_lng', 'distance(mi)', 'temperature(f)',\n",
      "       'wind_chill(f)', 'humidity(%)', 'pressure(in)', 'visibility(mi)',\n",
      "       'wind_speed(mph)', 'precipitation(in)', 'amenity', 'bump', 'crossing',\n",
      "       'give_way', 'junction', 'no_exit', 'railway', 'roundabout', 'station',\n",
      "       'stop', 'traffic_calming', 'traffic_signal', 'turning_loop', 'Clear',\n",
      "       'Cloudy', 'Foggy', 'Windy', 'Dusty', 'Smoky', 'Drizzle', 'Rainy',\n",
      "       'Snowy', 'Sleet/Ice', 'Thunderstorms', 'Extreme'],\n",
      "      dtype='object')\n"
     ]
    }
   ],
   "source": [
    "features = [\n",
    "  'start_lat', 'start_lng', 'distance(mi)', 'temperature(f)', 'wind_chill(f)', 'humidity(%)', 'pressure(in)', 'visibility(mi)', 'wind_speed(mph)', 'precipitation(in)', 'amenity', 'bump', 'crossing', 'give_way', 'junction', 'no_exit', 'railway', 'roundabout', 'station', 'stop', 'traffic_calming', 'traffic_signal', 'turning_loop'\n",
    "] + list(weather_categories.keys())\n",
    "target = 'severity'\n",
    "\n",
    "df = df.dropna(subset=features + [target])\n",
    "\n",
    "unnecessary_columns = [\n",
    "  'id', 'source', 'start_time', 'end_time', 'description', 'street', 'city', 'county', 'state', 'zipcode', 'timezone', 'airport_code', 'weather_timestamp', 'wind_direction', 'weather_condition','sunrise_sunset', 'civil_twilight', 'nautical_twilight', 'astronomical_twilight', 'start_hour', 'start_weekday', 'start_month', 'start_year', 'duration(min)'\n",
    "]\n",
    "\n",
    "df = df.drop(columns=unnecessary_columns, errors='ignore')\n",
    "\n",
    "print(f\"Cleaned Dataset: {df.shape[0]} rows, {df.shape[1]} columns\")\n",
    "print(\"\\nColumns Remaining After Feature Selection:\")\n",
    "print(df.columns)\n"
   ]
  },
  {
   "cell_type": "code",
   "execution_count": 17,
   "metadata": {},
   "outputs": [
    {
     "name": "stdout",
     "output_type": "stream",
     "text": [
      "Training Set Size: (5977827, 35) Testing Set Size: (1494457, 35)\n"
     ]
    }
   ],
   "source": [
    "X_train, X_test, y_train, y_test = train_test_split(df[features], df[target], test_size=0.2, random_state=42)\n",
    "\n",
    "print(\"Training Set Size:\", X_train.shape, \"Testing Set Size:\", X_test.shape)\n",
    "\n",
    "scaler = StandardScaler()\n",
    "X_train = scaler.fit_transform(X_train)\n",
    "X_test = scaler.transform(X_test)"
   ]
  },
  {
   "cell_type": "code",
   "execution_count": 18,
   "metadata": {},
   "outputs": [
    {
     "name": "stdout",
     "output_type": "stream",
     "text": [
      "Random Forest Accuracy: 0.8587754615890588\n",
      "              precision    recall  f1-score   support\n",
      "\n",
      "           1       0.71      0.20      0.32     13056\n",
      "           2       0.88      0.95      0.92   1190676\n",
      "           3       0.74      0.55      0.63    252043\n",
      "           4       0.47      0.21      0.29     38682\n",
      "\n",
      "    accuracy                           0.86   1494457\n",
      "   macro avg       0.70      0.48      0.54   1494457\n",
      "weighted avg       0.85      0.86      0.85   1494457\n",
      "\n"
     ]
    }
   ],
   "source": [
    "rf = RandomForestClassifier(n_estimators=100, random_state=42, n_jobs=-1)\n",
    "rf.fit(X_train, y_train)\n",
    "y_pred_rf = rf.predict(X_test)\n",
    "print(\"Random Forest Accuracy:\", accuracy_score(y_test, y_pred_rf))\n",
    "print(classification_report(y_test, y_pred_rf))\n"
   ]
  }
 ],
 "metadata": {
  "kernelspec": {
   "display_name": "base",
   "language": "python",
   "name": "python3"
  },
  "language_info": {
   "codemirror_mode": {
    "name": "ipython",
    "version": 3
   },
   "file_extension": ".py",
   "mimetype": "text/x-python",
   "name": "python",
   "nbconvert_exporter": "python",
   "pygments_lexer": "ipython3",
   "version": "3.11.4"
  }
 },
 "nbformat": 4,
 "nbformat_minor": 2
}
