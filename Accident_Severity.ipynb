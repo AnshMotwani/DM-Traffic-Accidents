{
   "cells": [
     {
       "cell_type": "code",
       "execution_count": 1,
       "metadata": {
         "tags": []
       },
       "outputs": [],
       "source": [
         "import pandas as pd\n",
         "from sklearn.model_selection import train_test_split\n",
         "from sklearn.preprocessing import StandardScaler, LabelEncoder\n",
         "from sklearn.linear_model import LogisticRegression\n",
         "from sklearn.metrics import accuracy_score, classification_report"
       ]
     },
     {
       "cell_type": "code",
       "execution_count": 2,
       "metadata": {},
       "outputs": [],
       "source": [
         "df = pd.read_csv(\"dataset/cleaned_us_accident_data.csv\")"
       ]
     },
     {
       "cell_type": "code",
       "metadata": {},
       "outputs": [],
       "source": [
         "label_encoder = LabelEncoder()\n",
         "df['severity'] = label_encoder.fit_transform(df['severity'])"
       ]
     },
     {
       "cell_type": "code",
       "metadata": {},
       "outputs": [],
       "source": [
         "features = ['temperature(f)', 'humidity(%)', 'pressure(in)', 'visibility(mi)', 'wind_speed(mph)']\n",
         "X = df[features]\n",
         "y = df['severity']"
       ]
     },
     {
       "cell_type": "code",
       "metadata": {},
       "outputs": [],
       "source": [
         "X_train, X_test, y_train, y_test = train_test_split(X, y, test_size=0.2, random_state=42)"
       ]
     },
     {
       "cell_type": "code",
       "metadata": {},
       "outputs": [],
       "source": [
         "scaler = StandardScaler()\n",
         "X_train_scaled = scaler.fit_transform(X_train)\n",
         "X_test_scaled = scaler.transform(X_test)"
       ]
     },
     {
       "cell_type": "code",
       "metadata": {},
       "outputs": [],
       "source": [
         "model = LogisticRegression()\n",
         "model.fit(X_train_scaled, y_train)\n",
         "y_pred = model.predict(X_test_scaled)"
       ]
     },
     {
       "cell_type": "code",
       "metadata": {},
       "outputs": [],
       "source": [
         "print(\"Logistic Regression Model Performance:\")\n",
         "print(f\"Accuracy: {accuracy_score(y_test, y_pred):.4f}\")\n",
         "print(classification_report(y_test, y_pred))"
       ]
     }
   ],
   "metadata": {
     "kernelspec": {
       "language": "python",
       "name": "python3"
     },
     "language_info": {
       "codemirror_mode": {
         "name": "ipython",
         "version": 3
       },
       "file_extension": ".py",
       "mimetype": "text/x-python",
       "name": "python",
       "nbconvert_exporter": "python",
       "pygments_lexer": "ipython3"
     }
   },
   "nbformat": 4,
   "nbformat_minor": 4
 }