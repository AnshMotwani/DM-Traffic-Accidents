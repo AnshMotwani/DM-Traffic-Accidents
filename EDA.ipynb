{
 "cells": [
  {
   "cell_type": "code",
   "execution_count": null,
   "metadata": {},
   "outputs": [],
   "source": [
    "import pandas as pd\n",
    "import numpy as np\n",
    "import matplotlib.pyplot as plt\n",
    "import seaborn as sns\n",
    "import warnings\n",
    "warnings.filterwarnings(\"ignore\")\n",
    "import matplotlib.ticker as mtick\n",
    "import folium\n",
    "from folium.plugins import HeatMap\n",
    "import plotly.express as px"
   ]
  },
  {
   "cell_type": "code",
   "execution_count": null,
   "metadata": {},
   "outputs": [],
   "source": [
    "#!pip install folium"
   ]
  },
  {
   "cell_type": "code",
   "execution_count": null,
   "metadata": {},
   "outputs": [],
   "source": [
    "print(plt.style.available)"
   ]
  },
  {
   "cell_type": "code",
   "execution_count": null,
   "metadata": {},
   "outputs": [],
   "source": [
    "plt.style.use(\"seaborn-v0_8-darkgrid\")\n",
    "sns.set_context('talk')"
   ]
  },
  {
   "cell_type": "code",
   "execution_count": null,
   "metadata": {},
   "outputs": [],
   "source": [
    "df = pd.read_csv('dataset/cleaned_us_accident_data.csv')"
   ]
  },
  {
   "cell_type": "code",
   "execution_count": null,
   "metadata": {},
   "outputs": [],
   "source": [
    "print(df.describe())"
   ]
  },
  {
   "cell_type": "code",
   "execution_count": null,
   "metadata": {},
   "outputs": [],
   "source": [
    "plt.figure(figsize=(10, 6))\n",
    "sns.set_style(\"whitegrid\")\n",
    "ax = sns.countplot(x='severity', data=df, palette='magma')\n",
    "for p in ax.patches:\n",
    "    ax.annotate(f'{p.get_height():,.0f}', \n",
    "                (p.get_x() + p.get_width() / 2., p.get_height()), \n",
    "                ha='center', va='bottom', fontsize=12, color='black')\n",
    "ax.yaxis.set_major_formatter(mtick.FuncFormatter(lambda x, _: f'{int(x):,}'))\n",
    "plt.title('Distribution of Accident Severity', fontsize=14, fontweight='bold')\n",
    "plt.xlabel('Severity Level', fontsize=12)\n",
    "plt.ylabel('Number of Accidents', fontsize=12)\n",
    "plt.xticks(fontsize=10)\n",
    "plt.yticks(fontsize=10)\n",
    "plt.show()"
   ]
  },
  {
   "cell_type": "code",
   "execution_count": null,
   "metadata": {},
   "outputs": [],
   "source": [
    "#print(df['severity'].value_counts())\n"
   ]
  },
  {
   "cell_type": "code",
   "execution_count": null,
   "metadata": {},
   "outputs": [],
   "source": [
    "df['year'] = pd.to_datetime(df['start_time']).dt.year\n",
    "df['month'] = pd.to_datetime(df['start_time']).dt.month\n",
    "\n",
    "plt.figure(figsize=(12, 6))\n",
    "sns.set_style(\"whitegrid\")\n",
    "palette_years = sns.color_palette(\"Blues_r\", len(df['year'].unique()))\n",
    "ax = sns.countplot(x='year', data=df, palette=palette_years)\n",
    "for p in ax.patches:\n",
    "    ax.annotate(f'{p.get_height():,}', \n",
    "                (p.get_x() + p.get_width() / 2., p.get_height()), \n",
    "                ha='center', va='bottom', fontsize=12, color='black')\n",
    "ax.yaxis.set_major_formatter(mtick.FuncFormatter(lambda x, _: f'{int(x):,}'))\n",
    "plt.title('Accident Frequency by Year', fontsize=14, fontweight='bold')\n",
    "plt.xlabel('Year', fontsize=12)\n",
    "plt.ylabel('Number of Accidents', fontsize=12)\n",
    "plt.xticks(fontsize=10)\n",
    "plt.yticks(fontsize=10)\n",
    "plt.show()\n",
    "\n",
    "plt.figure(figsize=(12, 6))\n",
    "palette_months = sns.color_palette(\"coolwarm\", 12)\n",
    "ax = sns.countplot(x='month', data=df, palette=palette_months)\n",
    "for p in ax.patches:\n",
    "    ax.annotate(f'{p.get_height():,}', \n",
    "                (p.get_x() + p.get_width() / 2., p.get_height()), \n",
    "                ha='center', va='bottom', fontsize=12, color='black')\n",
    "ax.yaxis.set_major_formatter(mtick.FuncFormatter(lambda x, _: f'{int(x):,}'))\n",
    "plt.title('Monthly Accident Frequency', fontsize=14, fontweight='bold')\n",
    "plt.xlabel('Month', fontsize=12)\n",
    "plt.ylabel('Number of Accidents', fontsize=12)\n",
    "plt.xticks(fontsize=10)\n",
    "plt.yticks(fontsize=10)\n",
    "plt.show()\n",
    "\n"
   ]
  },
  {
   "cell_type": "code",
   "execution_count": null,
   "metadata": {},
   "outputs": [],
   "source": [
    "df_sampled = df.sample(n=1000000, random_state=42) \n",
    "map_center = [df_sampled['start_lat'].mean(), df_sampled['start_lng'].mean()]\n",
    "\n",
    "m = folium.Map(location=map_center, zoom_start=5)\n",
    "heat_data = [[row['start_lat'], row['start_lng']] for _, row in df_sampled.iterrows()]\n",
    "HeatMap(heat_data, radius=8, blur=6, min_opacity=0.3).add_to(m)\n",
    "m"
   ]
  },
  {
   "cell_type": "code",
   "execution_count": null,
   "metadata": {},
   "outputs": [],
   "source": [
    "numeric_df = df.select_dtypes(include=['number'])\n",
    "\n",
    "corr_matrix = numeric_df.corr()\n",
    "\n",
    "mask = np.triu(np.ones_like(corr_matrix, dtype=bool))\n",
    "\n",
    "plt.figure(figsize=(14, 10))\n",
    "\n",
    "sns.heatmap(corr_matrix, mask=mask, annot=True, fmt=\".2f\", cmap=\"coolwarm\", \n",
    "            linewidths=0.5, cbar=True, square=True, annot_kws={\"size\": 10})\n",
    "\n",
    "plt.title(\"Correlation Matrix of Numerical Features\", fontsize=16, fontweight=\"bold\")\n",
    "\n",
    "plt.xticks(rotation=90, fontsize=12)\n",
    "plt.yticks(rotation=0, fontsize=12)\n",
    "\n",
    "\n",
    "plt.show()\n"
   ]
  },
  {
   "cell_type": "code",
   "execution_count": null,
   "metadata": {},
   "outputs": [],
   "source": [
    "plt.figure(figsize=(14, 7))\n",
    "sns.countplot(y='weather_condition', data=df, order=df['weather_condition'].value_counts().index[:10], palette='Set3')\n",
    "plt.title('Top 10 Weather Conditions for Accidents')\n",
    "plt.xlabel('Number of Accidents')\n",
    "plt.ylabel('Weather Condition')\n",
    "plt.show()\n"
   ]
  },
  {
   "cell_type": "code",
   "execution_count": null,
   "metadata": {},
   "outputs": [],
   "source": [
    "plt.figure(figsize=(12,7))\n",
    "sns.barplot(y=df['city'].value_counts()[:10].index, x=df['city'].value_counts()[:10], palette='cubehelix')\n",
    "plt.title(\"Top 10 Cities with Most Accidents\", fontsize=14)\n",
    "plt.xlabel(\"Number of Accidents\")\n",
    "plt.ylabel(\"City\")\n",
    "plt.show()\n"
   ]
  },
  {
   "cell_type": "code",
   "execution_count": null,
   "metadata": {},
   "outputs": [],
   "source": [
    "plt.figure(figsize=(14,7))\n",
    "sns.countplot(y=df['weather_condition'], order=df['weather_condition'].value_counts().index[:10], palette='plasma')\n",
    "plt.title(\"Top 10 Weather Conditions for Accidents\", fontsize=14)\n",
    "plt.xlabel(\"Number of Accidents\")\n",
    "plt.ylabel(\"Weather Condition\")\n",
    "plt.show()\n"
   ]
  },
  {
   "cell_type": "code",
   "execution_count": null,
   "metadata": {},
   "outputs": [],
   "source": [
    "features = ['traffic_signal', 'crossing', 'junction', 'stop']\n",
    "\n",
    "fig, axes = plt.subplots(2, 2, figsize=(14, 10))\n",
    "fig.suptitle(\"Impact of Road Features on Accidents\", fontsize=16, fontweight=\"bold\")\n",
    "\n",
    "colors = [\"#FF9999\", \"#4682B4\"] \n",
    "\n",
    "for i, feature in enumerate(features):\n",
    "    row, col = divmod(i, 2)\n",
    "    ax = axes[row, col]\n",
    "    \n",
    "    sns.countplot(x=feature, data=df, palette=colors, ax=ax)\n",
    "    \n",
    "    ax.set_xticklabels(['No', 'Yes'], fontsize=12)\n",
    "    \n",
    "    total = len(df)\n",
    "    for p in ax.patches:\n",
    "        percentage = f\"{100 * p.get_height() / total:.1f}%\"\n",
    "        ax.annotate(percentage, (p.get_x() + p.get_width() / 2., p.get_height()), \n",
    "                    ha='center', va='bottom', fontsize=12, color='black')\n",
    "\n",
    "    ax.yaxis.set_major_formatter(mtick.FuncFormatter(lambda x, _: f'{int(x):,}'))\n",
    "    ax.set_title(f\"Impact of {feature.replace('_', ' ').title()} on Accidents\", fontsize=14)\n",
    "\n",
    "plt.tight_layout(rect=[0, 0, 1, 0.95])\n",
    "plt.show()\n"
   ]
  },
  {
   "cell_type": "code",
   "execution_count": null,
   "metadata": {},
   "outputs": [],
   "source": [
    "#!pip install joypy"
   ]
  },
  {
   "cell_type": "code",
   "execution_count": null,
   "metadata": {},
   "outputs": [],
   "source": [
    "import joypy\n",
    "from matplotlib import cm\n",
    "\n",
    "plt.figure(figsize=(12,8))\n",
    "joypy.joyplot(data=df[['start_hour', 'severity']], by=\"severity\", colormap=cm.coolwarm)\n",
    "plt.title('Accidents by Time of Day (Ridgeline Plot)')\n",
    "plt.xlabel('Hour of the Day')\n",
    "plt.show()\n"
   ]
  },
  {
   "cell_type": "code",
   "execution_count": null,
   "metadata": {},
   "outputs": [],
   "source": [
    "fig = px.scatter(df, x='start_year', y='severity', size='distance(mi)', \n",
    "                 color='state', animation_frame='start_year',\n",
    "                 title=\"Accidents Over Time\",\n",
    "                 labels={'start_year': 'Year', 'severity': 'Severity'})\n",
    " \n",
    "fig.show()"
   ]
  }
 ],
 "metadata": {
  "kernelspec": {
   "display_name": "base",
   "language": "python",
   "name": "python3"
  },
  "language_info": {
   "codemirror_mode": {
    "name": "ipython",
    "version": 3
   },
   "file_extension": ".py",
   "mimetype": "text/x-python",
   "name": "python",
   "nbconvert_exporter": "python",
   "pygments_lexer": "ipython3",
   "version": "3.12.7"
  }
 },
 "nbformat": 4,
 "nbformat_minor": 2
}
