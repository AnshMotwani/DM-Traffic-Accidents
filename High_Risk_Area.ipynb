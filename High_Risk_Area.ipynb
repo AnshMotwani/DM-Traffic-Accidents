{
 "cells": [
  {
   "cell_type": "code",
   "execution_count": null,
   "metadata": {},
   "outputs": [],
   "source": [
    "import pandas as pd\n",
    "import matplotlib.pyplot as plt\n",
    "import seaborn as sns\n",
    "from sklearn.cluster import KMeans"
   ]
  },
  {
   "cell_type": "code",
   "execution_count": null,
   "metadata": {},
   "outputs": [],
   "source": [
    "df = pd.read_csv(\"dataset/cleaned_us_accident_data.csv\")"
   ]
  },
  {
   "cell_type": "code",
   "execution_count": null,
   "metadata": {},
   "outputs": [],
   "source": [
    "location_features = ['start_lat', 'start_lng']\n",
    "X_location = df[location_features]"
   ]
  },
  {
   "cell_type": "code",
   "execution_count": null,
   "metadata": {},
   "outputs": [],
   "source": [
    "inertia = []\n",
    "k_values = range(1, 11)\n",
    "for k in k_values:\n",
    "    kmeans = KMeans(n_clusters=k, random_state=42, n_init=10)\n",
    "    kmeans.fit(X_location)\n",
    "    inertia.append(kmeans.inertia_)"
   ]
  },
  {
   "cell_type": "code",
   "execution_count": null,
   "metadata": {},
   "outputs": [],
   "source": [
    "plt.figure(figsize=(8, 5))\n",
    "plt.plot(k_values, inertia, marker='o')\n",
    "plt.xlabel('Number of Clusters')\n",
    "plt.ylabel('Inertia')\n",
    "plt.title('Elbow Method for Optimal K')\n",
    "plt.show()"
   ]
  },
  {
   "cell_type": "code",
   "execution_count": null,
   "metadata": {},
   "outputs": [],
   "source": [
    "kmeans = KMeans(n_clusters=4, random_state=42, n_init=10)\n",
    "df['cluster'] = kmeans.fit_predict(X_location)"
   ]
  },
  {
   "cell_type": "code",
   "execution_count": null,
   "metadata": {},
   "outputs": [],
   "source": [
    "from sklearn.metrics import davies_bouldin_score\n",
    "\n",
    "db_index = davies_bouldin_score(X_location, df['cluster'])\n",
    "print(\"Davies-Bouldin Index:\", db_index)\n",
    "### Lower is better (Good clustering usually has a DB index < 1)"
   ]
  },
  {
   "cell_type": "code",
   "execution_count": null,
   "metadata": {
    "tags": []
   },
   "outputs": [],
   "source": [
    "plt.figure(figsize=(10, 6))\n",
    "sns.scatterplot(x=df['start_lng'], y=df['start_lat'], hue=df['cluster'], palette='viridis')\n",
    "plt.xlabel('Longitude')\n",
    "plt.ylabel('Latitude')\n",
    "plt.title('High Risk Area Clustering')\n",
    "plt.show()"
   ]
  },
  {
   "cell_type": "code",
   "execution_count": null,
   "metadata": {
    "tags": []
   },
   "outputs": [],
   "source": [
    "import seaborn as sns\n",
    "import matplotlib.pyplot as plt\n",
    "\n",
    "# Group by cluster and check severity distribution\n",
    "plt.figure(figsize=(8, 5))\n",
    "sns.boxplot(x=df['cluster'], y=df['severity'])\n",
    "plt.xlabel('Cluster')\n",
    "plt.ylabel('Accident Severity')\n",
    "plt.title('Accident Severity Distribution Across Clusters')\n",
    "plt.show()\n"
   ]
  },
  {
   "cell_type": "code",
   "execution_count": null,
   "metadata": {
    "tags": []
   },
   "outputs": [],
   "source": [
    "# Compare average weather conditions across clusters\n",
    "weather_features = ['temperature(f)', 'humidity(%)', 'pressure(in)', 'visibility(mi)', 'wind_speed(mph)']\n",
    "weather_analysis = df.groupby('cluster')[weather_features].mean()\n",
    "\n",
    "import pandas as pd\n",
    "import matplotlib.pyplot as plt\n",
    "\n",
    "# Display as a table\n",
    "import seaborn as sns\n",
    "plt.figure(figsize=(10, 6))\n",
    "sns.heatmap(weather_analysis, annot=True, cmap=\"coolwarm\")\n",
    "plt.title('Average Weather Conditions by Cluster')\n",
    "plt.show()\n"
   ]
  },
  {
   "cell_type": "code",
   "execution_count": null,
   "metadata": {
    "tags": []
   },
   "outputs": [],
   "source": [
    "df['hour'] = pd.to_datetime(df['start_time']).dt.hour\n",
    "\n",
    "# Plot accident frequency by hour for each cluster\n",
    "plt.figure(figsize=(10, 6))\n",
    "sns.histplot(data=df, x='hour', hue='cluster', multiple='stack', bins=24)\n",
    "plt.xlabel('Hour of the Day')\n",
    "plt.ylabel('Number of Accidents')\n",
    "plt.title('Accident Frequency by Hour for Each Cluster')\n",
    "plt.show()\n"
   ]
  },
  {
   "cell_type": "code",
   "execution_count": null,
   "metadata": {
    "tags": []
   },
   "outputs": [],
   "source": [
    "# Find top accident-prone roads per cluster\n",
    "top_roads = df.groupby(['cluster', 'street'])['severity'].count().reset_index()\n",
    "top_roads = top_roads.sort_values(['cluster', 'severity'], ascending=[True, False])\n",
    "\n",
    "# Show top 5 roads per cluster\n",
    "for cluster in df['cluster'].unique():\n",
    "    print(f\"Cluster {cluster} - Top 5 High-Risk Roads:\")\n",
    "    print(top_roads[top_roads['cluster'] == cluster].head(5))\n",
    "    print(\"\\n\")\n"
   ]
  },
  {
   "cell_type": "code",
   "execution_count": null,
   "metadata": {},
   "outputs": [],
   "source": []
  }
 ],
 "metadata": {
  "kernelspec": {
   "display_name": "base",
   "language": "python",
   "name": "python3"
  },
  "language_info": {
   "codemirror_mode": {
    "name": "ipython",
    "version": 3
   },
   "file_extension": ".py",
   "mimetype": "text/x-python",
   "name": "python",
   "nbconvert_exporter": "python",
   "pygments_lexer": "ipython3",
   "version": "3.12.7"
  }
 },
 "nbformat": 4,
 "nbformat_minor": 4
}
