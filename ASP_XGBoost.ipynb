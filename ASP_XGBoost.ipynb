{
 "cells": [
  {
   "cell_type": "code",
<<<<<<< HEAD
   "execution_count": 1,
=======
   "execution_count": null,
>>>>>>> 373e40d63f1ef19499c1864f7db4b98e111fad8a
   "metadata": {},
   "outputs": [],
   "source": [
    "import pandas as pd\n",
    "import numpy as np\n",
    "from sklearn.model_selection import train_test_split\n",
    "from xgboost import XGBClassifier\n",
    "from sklearn.preprocessing import StandardScaler, LabelEncoder\n",
    "from sklearn.metrics import accuracy_score, classification_report, confusion_matrix\n",
    "import seaborn as sns\n",
    "import matplotlib.pyplot as plt"
   ]
  },
  {
   "cell_type": "code",
<<<<<<< HEAD
   "execution_count": 2,
   "metadata": {},
   "outputs": [
    {
     "name": "stdout",
     "output_type": "stream",
     "text": [
      "Defaulting to user installation because normal site-packages is not writeable\n",
      "Requirement already satisfied: imblearn in c:\\users\\anshm\\appdata\\roaming\\python\\python312\\site-packages (0.0)\n",
      "Requirement already satisfied: imbalanced-learn in c:\\programdata\\anaconda3\\lib\\site-packages (from imblearn) (0.12.3)\n",
      "Requirement already satisfied: numpy>=1.17.3 in c:\\programdata\\anaconda3\\lib\\site-packages (from imbalanced-learn->imblearn) (1.26.4)\n",
      "Requirement already satisfied: scipy>=1.5.0 in c:\\programdata\\anaconda3\\lib\\site-packages (from imbalanced-learn->imblearn) (1.13.1)\n",
      "Requirement already satisfied: scikit-learn>=1.0.2 in c:\\programdata\\anaconda3\\lib\\site-packages (from imbalanced-learn->imblearn) (1.5.1)\n",
      "Requirement already satisfied: joblib>=1.1.1 in c:\\programdata\\anaconda3\\lib\\site-packages (from imbalanced-learn->imblearn) (1.4.2)\n",
      "Requirement already satisfied: threadpoolctl>=2.0.0 in c:\\programdata\\anaconda3\\lib\\site-packages (from imbalanced-learn->imblearn) (3.5.0)\n"
     ]
    }
   ],
=======
   "execution_count": null,
   "metadata": {},
   "outputs": [],
>>>>>>> 373e40d63f1ef19499c1864f7db4b98e111fad8a
   "source": [
    "!pip install imblearn"
   ]
  },
  {
   "cell_type": "code",
<<<<<<< HEAD
   "execution_count": 3,
=======
   "execution_count": null,
>>>>>>> 373e40d63f1ef19499c1864f7db4b98e111fad8a
   "metadata": {},
   "outputs": [],
   "source": [
    "df = pd.read_csv('dataset/cleaned_us_accident_data.csv')"
   ]
  },
  {
   "cell_type": "code",
<<<<<<< HEAD
   "execution_count": 4,
=======
   "execution_count": null,
>>>>>>> 373e40d63f1ef19499c1864f7db4b98e111fad8a
   "metadata": {},
   "outputs": [],
   "source": [
    "features = ['temperature(f)', 'humidity(%)', 'pressure(in)', 'visibility(mi)', 'wind_speed(mph)', \n",
    "            'traffic_signal', 'crossing', 'junction', 'stop', 'start_hour', 'start_weekday']\n",
    "target = 'severity'"
   ]
  },
  {
   "cell_type": "code",
<<<<<<< HEAD
   "execution_count": 5,
=======
   "execution_count": null,
>>>>>>> 373e40d63f1ef19499c1864f7db4b98e111fad8a
   "metadata": {},
   "outputs": [],
   "source": [
    "df = df.dropna(subset=features + [target])"
   ]
  },
  {
   "cell_type": "code",
<<<<<<< HEAD
   "execution_count": 6,
=======
   "execution_count": null,
>>>>>>> 373e40d63f1ef19499c1864f7db4b98e111fad8a
   "metadata": {},
   "outputs": [],
   "source": [
    "scaler = StandardScaler()\n",
    "df[features] = scaler.fit_transform(df[features])"
   ]
  },
  {
   "cell_type": "code",
<<<<<<< HEAD
   "execution_count": 7,
=======
   "execution_count": null,
>>>>>>> 373e40d63f1ef19499c1864f7db4b98e111fad8a
   "metadata": {},
   "outputs": [],
   "source": [
    "le = LabelEncoder()\n",
    "df[target] = le.fit_transform(df[target])"
   ]
  },
  {
   "cell_type": "code",
<<<<<<< HEAD
   "execution_count": 8,
=======
   "execution_count": null,
>>>>>>> 373e40d63f1ef19499c1864f7db4b98e111fad8a
   "metadata": {},
   "outputs": [],
   "source": [
    "X_train, X_test, y_train, y_test = train_test_split(df[features], df[target], test_size=0.2, random_state=42)"
   ]
  },
  {
   "cell_type": "code",
<<<<<<< HEAD
   "execution_count": 9,
   "metadata": {},
   "outputs": [
    {
     "name": "stdout",
     "output_type": "stream",
     "text": [
      "Training Set Size: (5406033, 11) Testing Set Size: (1351509, 11)\n"
     ]
    }
   ],
=======
   "execution_count": null,
   "metadata": {},
   "outputs": [],
>>>>>>> 373e40d63f1ef19499c1864f7db4b98e111fad8a
   "source": [
    "print(\"Training Set Size:\", X_train.shape, \"Testing Set Size:\", X_test.shape)"
   ]
  },
  {
   "cell_type": "code",
<<<<<<< HEAD
   "execution_count": 10,
   "metadata": {},
   "outputs": [
    {
     "data": {
      "text/html": [
       "<style>#sk-container-id-1 {\n",
       "  /* Definition of color scheme common for light and dark mode */\n",
       "  --sklearn-color-text: black;\n",
       "  --sklearn-color-line: gray;\n",
       "  /* Definition of color scheme for unfitted estimators */\n",
       "  --sklearn-color-unfitted-level-0: #fff5e6;\n",
       "  --sklearn-color-unfitted-level-1: #f6e4d2;\n",
       "  --sklearn-color-unfitted-level-2: #ffe0b3;\n",
       "  --sklearn-color-unfitted-level-3: chocolate;\n",
       "  /* Definition of color scheme for fitted estimators */\n",
       "  --sklearn-color-fitted-level-0: #f0f8ff;\n",
       "  --sklearn-color-fitted-level-1: #d4ebff;\n",
       "  --sklearn-color-fitted-level-2: #b3dbfd;\n",
       "  --sklearn-color-fitted-level-3: cornflowerblue;\n",
       "\n",
       "  /* Specific color for light theme */\n",
       "  --sklearn-color-text-on-default-background: var(--sg-text-color, var(--theme-code-foreground, var(--jp-content-font-color1, black)));\n",
       "  --sklearn-color-background: var(--sg-background-color, var(--theme-background, var(--jp-layout-color0, white)));\n",
       "  --sklearn-color-border-box: var(--sg-text-color, var(--theme-code-foreground, var(--jp-content-font-color1, black)));\n",
       "  --sklearn-color-icon: #696969;\n",
       "\n",
       "  @media (prefers-color-scheme: dark) {\n",
       "    /* Redefinition of color scheme for dark theme */\n",
       "    --sklearn-color-text-on-default-background: var(--sg-text-color, var(--theme-code-foreground, var(--jp-content-font-color1, white)));\n",
       "    --sklearn-color-background: var(--sg-background-color, var(--theme-background, var(--jp-layout-color0, #111)));\n",
       "    --sklearn-color-border-box: var(--sg-text-color, var(--theme-code-foreground, var(--jp-content-font-color1, white)));\n",
       "    --sklearn-color-icon: #878787;\n",
       "  }\n",
       "}\n",
       "\n",
       "#sk-container-id-1 {\n",
       "  color: var(--sklearn-color-text);\n",
       "}\n",
       "\n",
       "#sk-container-id-1 pre {\n",
       "  padding: 0;\n",
       "}\n",
       "\n",
       "#sk-container-id-1 input.sk-hidden--visually {\n",
       "  border: 0;\n",
       "  clip: rect(1px 1px 1px 1px);\n",
       "  clip: rect(1px, 1px, 1px, 1px);\n",
       "  height: 1px;\n",
       "  margin: -1px;\n",
       "  overflow: hidden;\n",
       "  padding: 0;\n",
       "  position: absolute;\n",
       "  width: 1px;\n",
       "}\n",
       "\n",
       "#sk-container-id-1 div.sk-dashed-wrapped {\n",
       "  border: 1px dashed var(--sklearn-color-line);\n",
       "  margin: 0 0.4em 0.5em 0.4em;\n",
       "  box-sizing: border-box;\n",
       "  padding-bottom: 0.4em;\n",
       "  background-color: var(--sklearn-color-background);\n",
       "}\n",
       "\n",
       "#sk-container-id-1 div.sk-container {\n",
       "  /* jupyter's `normalize.less` sets `[hidden] { display: none; }`\n",
       "     but bootstrap.min.css set `[hidden] { display: none !important; }`\n",
       "     so we also need the `!important` here to be able to override the\n",
       "     default hidden behavior on the sphinx rendered scikit-learn.org.\n",
       "     See: https://github.com/scikit-learn/scikit-learn/issues/21755 */\n",
       "  display: inline-block !important;\n",
       "  position: relative;\n",
       "}\n",
       "\n",
       "#sk-container-id-1 div.sk-text-repr-fallback {\n",
       "  display: none;\n",
       "}\n",
       "\n",
       "div.sk-parallel-item,\n",
       "div.sk-serial,\n",
       "div.sk-item {\n",
       "  /* draw centered vertical line to link estimators */\n",
       "  background-image: linear-gradient(var(--sklearn-color-text-on-default-background), var(--sklearn-color-text-on-default-background));\n",
       "  background-size: 2px 100%;\n",
       "  background-repeat: no-repeat;\n",
       "  background-position: center center;\n",
       "}\n",
       "\n",
       "/* Parallel-specific style estimator block */\n",
       "\n",
       "#sk-container-id-1 div.sk-parallel-item::after {\n",
       "  content: \"\";\n",
       "  width: 100%;\n",
       "  border-bottom: 2px solid var(--sklearn-color-text-on-default-background);\n",
       "  flex-grow: 1;\n",
       "}\n",
       "\n",
       "#sk-container-id-1 div.sk-parallel {\n",
       "  display: flex;\n",
       "  align-items: stretch;\n",
       "  justify-content: center;\n",
       "  background-color: var(--sklearn-color-background);\n",
       "  position: relative;\n",
       "}\n",
       "\n",
       "#sk-container-id-1 div.sk-parallel-item {\n",
       "  display: flex;\n",
       "  flex-direction: column;\n",
       "}\n",
       "\n",
       "#sk-container-id-1 div.sk-parallel-item:first-child::after {\n",
       "  align-self: flex-end;\n",
       "  width: 50%;\n",
       "}\n",
       "\n",
       "#sk-container-id-1 div.sk-parallel-item:last-child::after {\n",
       "  align-self: flex-start;\n",
       "  width: 50%;\n",
       "}\n",
       "\n",
       "#sk-container-id-1 div.sk-parallel-item:only-child::after {\n",
       "  width: 0;\n",
       "}\n",
       "\n",
       "/* Serial-specific style estimator block */\n",
       "\n",
       "#sk-container-id-1 div.sk-serial {\n",
       "  display: flex;\n",
       "  flex-direction: column;\n",
       "  align-items: center;\n",
       "  background-color: var(--sklearn-color-background);\n",
       "  padding-right: 1em;\n",
       "  padding-left: 1em;\n",
       "}\n",
       "\n",
       "\n",
       "/* Toggleable style: style used for estimator/Pipeline/ColumnTransformer box that is\n",
       "clickable and can be expanded/collapsed.\n",
       "- Pipeline and ColumnTransformer use this feature and define the default style\n",
       "- Estimators will overwrite some part of the style using the `sk-estimator` class\n",
       "*/\n",
       "\n",
       "/* Pipeline and ColumnTransformer style (default) */\n",
       "\n",
       "#sk-container-id-1 div.sk-toggleable {\n",
       "  /* Default theme specific background. It is overwritten whether we have a\n",
       "  specific estimator or a Pipeline/ColumnTransformer */\n",
       "  background-color: var(--sklearn-color-background);\n",
       "}\n",
       "\n",
       "/* Toggleable label */\n",
       "#sk-container-id-1 label.sk-toggleable__label {\n",
       "  cursor: pointer;\n",
       "  display: block;\n",
       "  width: 100%;\n",
       "  margin-bottom: 0;\n",
       "  padding: 0.5em;\n",
       "  box-sizing: border-box;\n",
       "  text-align: center;\n",
       "}\n",
       "\n",
       "#sk-container-id-1 label.sk-toggleable__label-arrow:before {\n",
       "  /* Arrow on the left of the label */\n",
       "  content: \"▸\";\n",
       "  float: left;\n",
       "  margin-right: 0.25em;\n",
       "  color: var(--sklearn-color-icon);\n",
       "}\n",
       "\n",
       "#sk-container-id-1 label.sk-toggleable__label-arrow:hover:before {\n",
       "  color: var(--sklearn-color-text);\n",
       "}\n",
       "\n",
       "/* Toggleable content - dropdown */\n",
       "\n",
       "#sk-container-id-1 div.sk-toggleable__content {\n",
       "  max-height: 0;\n",
       "  max-width: 0;\n",
       "  overflow: hidden;\n",
       "  text-align: left;\n",
       "  /* unfitted */\n",
       "  background-color: var(--sklearn-color-unfitted-level-0);\n",
       "}\n",
       "\n",
       "#sk-container-id-1 div.sk-toggleable__content.fitted {\n",
       "  /* fitted */\n",
       "  background-color: var(--sklearn-color-fitted-level-0);\n",
       "}\n",
       "\n",
       "#sk-container-id-1 div.sk-toggleable__content pre {\n",
       "  margin: 0.2em;\n",
       "  border-radius: 0.25em;\n",
       "  color: var(--sklearn-color-text);\n",
       "  /* unfitted */\n",
       "  background-color: var(--sklearn-color-unfitted-level-0);\n",
       "}\n",
       "\n",
       "#sk-container-id-1 div.sk-toggleable__content.fitted pre {\n",
       "  /* unfitted */\n",
       "  background-color: var(--sklearn-color-fitted-level-0);\n",
       "}\n",
       "\n",
       "#sk-container-id-1 input.sk-toggleable__control:checked~div.sk-toggleable__content {\n",
       "  /* Expand drop-down */\n",
       "  max-height: 200px;\n",
       "  max-width: 100%;\n",
       "  overflow: auto;\n",
       "}\n",
       "\n",
       "#sk-container-id-1 input.sk-toggleable__control:checked~label.sk-toggleable__label-arrow:before {\n",
       "  content: \"▾\";\n",
       "}\n",
       "\n",
       "/* Pipeline/ColumnTransformer-specific style */\n",
       "\n",
       "#sk-container-id-1 div.sk-label input.sk-toggleable__control:checked~label.sk-toggleable__label {\n",
       "  color: var(--sklearn-color-text);\n",
       "  background-color: var(--sklearn-color-unfitted-level-2);\n",
       "}\n",
       "\n",
       "#sk-container-id-1 div.sk-label.fitted input.sk-toggleable__control:checked~label.sk-toggleable__label {\n",
       "  background-color: var(--sklearn-color-fitted-level-2);\n",
       "}\n",
       "\n",
       "/* Estimator-specific style */\n",
       "\n",
       "/* Colorize estimator box */\n",
       "#sk-container-id-1 div.sk-estimator input.sk-toggleable__control:checked~label.sk-toggleable__label {\n",
       "  /* unfitted */\n",
       "  background-color: var(--sklearn-color-unfitted-level-2);\n",
       "}\n",
       "\n",
       "#sk-container-id-1 div.sk-estimator.fitted input.sk-toggleable__control:checked~label.sk-toggleable__label {\n",
       "  /* fitted */\n",
       "  background-color: var(--sklearn-color-fitted-level-2);\n",
       "}\n",
       "\n",
       "#sk-container-id-1 div.sk-label label.sk-toggleable__label,\n",
       "#sk-container-id-1 div.sk-label label {\n",
       "  /* The background is the default theme color */\n",
       "  color: var(--sklearn-color-text-on-default-background);\n",
       "}\n",
       "\n",
       "/* On hover, darken the color of the background */\n",
       "#sk-container-id-1 div.sk-label:hover label.sk-toggleable__label {\n",
       "  color: var(--sklearn-color-text);\n",
       "  background-color: var(--sklearn-color-unfitted-level-2);\n",
       "}\n",
       "\n",
       "/* Label box, darken color on hover, fitted */\n",
       "#sk-container-id-1 div.sk-label.fitted:hover label.sk-toggleable__label.fitted {\n",
       "  color: var(--sklearn-color-text);\n",
       "  background-color: var(--sklearn-color-fitted-level-2);\n",
       "}\n",
       "\n",
       "/* Estimator label */\n",
       "\n",
       "#sk-container-id-1 div.sk-label label {\n",
       "  font-family: monospace;\n",
       "  font-weight: bold;\n",
       "  display: inline-block;\n",
       "  line-height: 1.2em;\n",
       "}\n",
       "\n",
       "#sk-container-id-1 div.sk-label-container {\n",
       "  text-align: center;\n",
       "}\n",
       "\n",
       "/* Estimator-specific */\n",
       "#sk-container-id-1 div.sk-estimator {\n",
       "  font-family: monospace;\n",
       "  border: 1px dotted var(--sklearn-color-border-box);\n",
       "  border-radius: 0.25em;\n",
       "  box-sizing: border-box;\n",
       "  margin-bottom: 0.5em;\n",
       "  /* unfitted */\n",
       "  background-color: var(--sklearn-color-unfitted-level-0);\n",
       "}\n",
       "\n",
       "#sk-container-id-1 div.sk-estimator.fitted {\n",
       "  /* fitted */\n",
       "  background-color: var(--sklearn-color-fitted-level-0);\n",
       "}\n",
       "\n",
       "/* on hover */\n",
       "#sk-container-id-1 div.sk-estimator:hover {\n",
       "  /* unfitted */\n",
       "  background-color: var(--sklearn-color-unfitted-level-2);\n",
       "}\n",
       "\n",
       "#sk-container-id-1 div.sk-estimator.fitted:hover {\n",
       "  /* fitted */\n",
       "  background-color: var(--sklearn-color-fitted-level-2);\n",
       "}\n",
       "\n",
       "/* Specification for estimator info (e.g. \"i\" and \"?\") */\n",
       "\n",
       "/* Common style for \"i\" and \"?\" */\n",
       "\n",
       ".sk-estimator-doc-link,\n",
       "a:link.sk-estimator-doc-link,\n",
       "a:visited.sk-estimator-doc-link {\n",
       "  float: right;\n",
       "  font-size: smaller;\n",
       "  line-height: 1em;\n",
       "  font-family: monospace;\n",
       "  background-color: var(--sklearn-color-background);\n",
       "  border-radius: 1em;\n",
       "  height: 1em;\n",
       "  width: 1em;\n",
       "  text-decoration: none !important;\n",
       "  margin-left: 1ex;\n",
       "  /* unfitted */\n",
       "  border: var(--sklearn-color-unfitted-level-1) 1pt solid;\n",
       "  color: var(--sklearn-color-unfitted-level-1);\n",
       "}\n",
       "\n",
       ".sk-estimator-doc-link.fitted,\n",
       "a:link.sk-estimator-doc-link.fitted,\n",
       "a:visited.sk-estimator-doc-link.fitted {\n",
       "  /* fitted */\n",
       "  border: var(--sklearn-color-fitted-level-1) 1pt solid;\n",
       "  color: var(--sklearn-color-fitted-level-1);\n",
       "}\n",
       "\n",
       "/* On hover */\n",
       "div.sk-estimator:hover .sk-estimator-doc-link:hover,\n",
       ".sk-estimator-doc-link:hover,\n",
       "div.sk-label-container:hover .sk-estimator-doc-link:hover,\n",
       ".sk-estimator-doc-link:hover {\n",
       "  /* unfitted */\n",
       "  background-color: var(--sklearn-color-unfitted-level-3);\n",
       "  color: var(--sklearn-color-background);\n",
       "  text-decoration: none;\n",
       "}\n",
       "\n",
       "div.sk-estimator.fitted:hover .sk-estimator-doc-link.fitted:hover,\n",
       ".sk-estimator-doc-link.fitted:hover,\n",
       "div.sk-label-container:hover .sk-estimator-doc-link.fitted:hover,\n",
       ".sk-estimator-doc-link.fitted:hover {\n",
       "  /* fitted */\n",
       "  background-color: var(--sklearn-color-fitted-level-3);\n",
       "  color: var(--sklearn-color-background);\n",
       "  text-decoration: none;\n",
       "}\n",
       "\n",
       "/* Span, style for the box shown on hovering the info icon */\n",
       ".sk-estimator-doc-link span {\n",
       "  display: none;\n",
       "  z-index: 9999;\n",
       "  position: relative;\n",
       "  font-weight: normal;\n",
       "  right: .2ex;\n",
       "  padding: .5ex;\n",
       "  margin: .5ex;\n",
       "  width: min-content;\n",
       "  min-width: 20ex;\n",
       "  max-width: 50ex;\n",
       "  color: var(--sklearn-color-text);\n",
       "  box-shadow: 2pt 2pt 4pt #999;\n",
       "  /* unfitted */\n",
       "  background: var(--sklearn-color-unfitted-level-0);\n",
       "  border: .5pt solid var(--sklearn-color-unfitted-level-3);\n",
       "}\n",
       "\n",
       ".sk-estimator-doc-link.fitted span {\n",
       "  /* fitted */\n",
       "  background: var(--sklearn-color-fitted-level-0);\n",
       "  border: var(--sklearn-color-fitted-level-3);\n",
       "}\n",
       "\n",
       ".sk-estimator-doc-link:hover span {\n",
       "  display: block;\n",
       "}\n",
       "\n",
       "/* \"?\"-specific style due to the `<a>` HTML tag */\n",
       "\n",
       "#sk-container-id-1 a.estimator_doc_link {\n",
       "  float: right;\n",
       "  font-size: 1rem;\n",
       "  line-height: 1em;\n",
       "  font-family: monospace;\n",
       "  background-color: var(--sklearn-color-background);\n",
       "  border-radius: 1rem;\n",
       "  height: 1rem;\n",
       "  width: 1rem;\n",
       "  text-decoration: none;\n",
       "  /* unfitted */\n",
       "  color: var(--sklearn-color-unfitted-level-1);\n",
       "  border: var(--sklearn-color-unfitted-level-1) 1pt solid;\n",
       "}\n",
       "\n",
       "#sk-container-id-1 a.estimator_doc_link.fitted {\n",
       "  /* fitted */\n",
       "  border: var(--sklearn-color-fitted-level-1) 1pt solid;\n",
       "  color: var(--sklearn-color-fitted-level-1);\n",
       "}\n",
       "\n",
       "/* On hover */\n",
       "#sk-container-id-1 a.estimator_doc_link:hover {\n",
       "  /* unfitted */\n",
       "  background-color: var(--sklearn-color-unfitted-level-3);\n",
       "  color: var(--sklearn-color-background);\n",
       "  text-decoration: none;\n",
       "}\n",
       "\n",
       "#sk-container-id-1 a.estimator_doc_link.fitted:hover {\n",
       "  /* fitted */\n",
       "  background-color: var(--sklearn-color-fitted-level-3);\n",
       "}\n",
       "</style><div id=\"sk-container-id-1\" class=\"sk-top-container\"><div class=\"sk-text-repr-fallback\"><pre>XGBClassifier(base_score=None, booster=None, callbacks=None,\n",
       "              colsample_bylevel=None, colsample_bynode=None,\n",
       "              colsample_bytree=None, device=None, early_stopping_rounds=None,\n",
       "              enable_categorical=False, eval_metric=None, feature_types=None,\n",
       "              gamma=None, grow_policy=None, importance_type=None,\n",
       "              interaction_constraints=None, learning_rate=0.1, max_bin=None,\n",
       "              max_cat_threshold=None, max_cat_to_onehot=None,\n",
       "              max_delta_step=None, max_depth=6, max_leaves=None,\n",
       "              min_child_weight=None, missing=nan, monotone_constraints=None,\n",
       "              multi_strategy=None, n_estimators=200, n_jobs=None,\n",
       "              num_parallel_tree=None, objective=&#x27;multi:softprob&#x27;, ...)</pre><b>In a Jupyter environment, please rerun this cell to show the HTML representation or trust the notebook. <br />On GitHub, the HTML representation is unable to render, please try loading this page with nbviewer.org.</b></div><div class=\"sk-container\" hidden><div class=\"sk-item\"><div class=\"sk-estimator fitted sk-toggleable\"><input class=\"sk-toggleable__control sk-hidden--visually\" id=\"sk-estimator-id-1\" type=\"checkbox\" checked><label for=\"sk-estimator-id-1\" class=\"sk-toggleable__label fitted sk-toggleable__label-arrow fitted\">&nbsp;XGBClassifier<span class=\"sk-estimator-doc-link fitted\">i<span>Fitted</span></span></label><div class=\"sk-toggleable__content fitted\"><pre>XGBClassifier(base_score=None, booster=None, callbacks=None,\n",
       "              colsample_bylevel=None, colsample_bynode=None,\n",
       "              colsample_bytree=None, device=None, early_stopping_rounds=None,\n",
       "              enable_categorical=False, eval_metric=None, feature_types=None,\n",
       "              gamma=None, grow_policy=None, importance_type=None,\n",
       "              interaction_constraints=None, learning_rate=0.1, max_bin=None,\n",
       "              max_cat_threshold=None, max_cat_to_onehot=None,\n",
       "              max_delta_step=None, max_depth=6, max_leaves=None,\n",
       "              min_child_weight=None, missing=nan, monotone_constraints=None,\n",
       "              multi_strategy=None, n_estimators=200, n_jobs=None,\n",
       "              num_parallel_tree=None, objective=&#x27;multi:softprob&#x27;, ...)</pre></div> </div></div></div></div>"
      ],
      "text/plain": [
       "XGBClassifier(base_score=None, booster=None, callbacks=None,\n",
       "              colsample_bylevel=None, colsample_bynode=None,\n",
       "              colsample_bytree=None, device=None, early_stopping_rounds=None,\n",
       "              enable_categorical=False, eval_metric=None, feature_types=None,\n",
       "              gamma=None, grow_policy=None, importance_type=None,\n",
       "              interaction_constraints=None, learning_rate=0.1, max_bin=None,\n",
       "              max_cat_threshold=None, max_cat_to_onehot=None,\n",
       "              max_delta_step=None, max_depth=6, max_leaves=None,\n",
       "              min_child_weight=None, missing=nan, monotone_constraints=None,\n",
       "              multi_strategy=None, n_estimators=200, n_jobs=None,\n",
       "              num_parallel_tree=None, objective='multi:softprob', ...)"
      ]
     },
     "execution_count": 10,
     "metadata": {},
     "output_type": "execute_result"
    }
   ],
=======
   "execution_count": null,
   "metadata": {},
   "outputs": [],
>>>>>>> 373e40d63f1ef19499c1864f7db4b98e111fad8a
   "source": [
    "model = XGBClassifier(n_estimators=200, learning_rate=0.1, max_depth=6, random_state=42)\n",
    "model.fit(X_train, y_train)"
   ]
  },
  {
   "cell_type": "code",
<<<<<<< HEAD
   "execution_count": 11,
   "metadata": {},
   "outputs": [
    {
     "name": "stdout",
     "output_type": "stream",
     "text": [
      "Accuracy: 0.7814842520471562\n",
      "              precision    recall  f1-score   support\n",
      "\n",
      "           0       0.61      0.02      0.04     13109\n",
      "           1       0.79      0.99      0.88   1051191\n",
      "           2       0.55      0.06      0.11    251947\n",
      "           3       0.70      0.00      0.00     35262\n",
      "\n",
      "    accuracy                           0.78   1351509\n",
      "   macro avg       0.66      0.27      0.26   1351509\n",
      "weighted avg       0.74      0.78      0.70   1351509\n",
      "\n"
     ]
    }
   ],
=======
   "execution_count": null,
   "metadata": {},
   "outputs": [],
>>>>>>> 373e40d63f1ef19499c1864f7db4b98e111fad8a
   "source": [
    "y_pred = model.predict(X_test)\n",
    "print(\"Accuracy:\", accuracy_score(y_test, y_pred))\n",
    "print(classification_report(y_test, y_pred))"
   ]
  },
  {
   "cell_type": "code",
<<<<<<< HEAD
   "execution_count": 12,
   "metadata": {},
   "outputs": [
    {
     "data": {
      "image/png": "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",
      "text/plain": [
       "<Figure size 600x500 with 2 Axes>"
      ]
     },
     "metadata": {},
     "output_type": "display_data"
    },
    {
     "name": "stderr",
     "output_type": "stream",
     "text": [
      "C:\\Users\\anshm\\AppData\\Local\\Temp\\ipykernel_10228\\2785737047.py:10: FutureWarning: \n",
      "\n",
      "Passing `palette` without assigning `hue` is deprecated and will be removed in v0.14.0. Assign the `y` variable to `hue` and set `legend=False` for the same effect.\n",
      "\n",
      "  sns.barplot(x=model.feature_importances_, y=features, palette=\"coolwarm\")\n"
     ]
    },
    {
     "data": {
      "image/png": "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",
      "text/plain": [
       "<Figure size 1000x600 with 1 Axes>"
      ]
     },
     "metadata": {},
     "output_type": "display_data"
    }
   ],
=======
   "execution_count": null,
   "metadata": {},
   "outputs": [],
>>>>>>> 373e40d63f1ef19499c1864f7db4b98e111fad8a
   "source": [
    "plt.figure(figsize=(6,5))\n",
    "sns.heatmap(confusion_matrix(y_test, y_pred), annot=True, fmt='d', cmap='Blues')\n",
    "plt.title(\"Confusion Matrix\")\n",
    "plt.xlabel(\"Predicted\")\n",
    "plt.ylabel(\"Actual\")\n",
    "plt.show()\n",
    "\n",
    "######Feature Importance\n",
    "plt.figure(figsize=(10,6))\n",
    "sns.barplot(x=model.feature_importances_, y=features, palette=\"coolwarm\")\n",
    "plt.title(\"Feature Importance in Severity Prediction\")\n",
    "plt.show()\n"
   ]
  },
  {
   "cell_type": "code",
<<<<<<< HEAD
   "execution_count": 13,
=======
   "execution_count": null,
>>>>>>> 373e40d63f1ef19499c1864f7db4b98e111fad8a
   "metadata": {},
   "outputs": [],
   "source": [
    "weak_features = ['visibility(mi)']\n",
    "X_train.drop(columns=weak_features, inplace=True)\n",
    "X_test.drop(columns=weak_features, inplace=True)"
   ]
  },
  {
   "cell_type": "code",
   "execution_count": null,
   "metadata": {},
   "outputs": [],
   "source": [
    "from imblearn.over_sampling import SMOTE\n",
    "smote = SMOTE(random_state=42)\n",
    "X_resampled, y_resampled = smote.fit_resample(X_train, y_train)\n",
    "\n",
    "print(\"New Class Distribution:\\n\", pd.Series(y_resampled).value_counts())\n"
   ]
  }
 ],
 "metadata": {
  "kernelspec": {
   "display_name": "base",
   "language": "python",
   "name": "python3"
  },
  "language_info": {
   "codemirror_mode": {
    "name": "ipython",
    "version": 3
   },
   "file_extension": ".py",
   "mimetype": "text/x-python",
   "name": "python",
   "nbconvert_exporter": "python",
   "pygments_lexer": "ipython3",
   "version": "3.12.7"
  }
 },
 "nbformat": 4,
 "nbformat_minor": 2
}
